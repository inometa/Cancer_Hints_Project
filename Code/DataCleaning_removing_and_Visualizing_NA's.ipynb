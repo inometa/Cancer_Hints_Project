{
 "cells": [
  {
   "cell_type": "code",
   "execution_count": null,
   "metadata": {
    "id": "1LXZruj2Mbqx"
   },
   "outputs": [],
   "source": [
    "import numpy as np\n",
    "import matplotlib.pyplot as plt\n",
    "import pandas as pd\n",
    "import seaborn as sns"
   ]
  },
  {
   "cell_type": "code",
   "execution_count": null,
   "metadata": {
    "id": "chw1ThQFMjQL"
   },
   "outputs": [],
   "source": [
    "hints = pd.read_csv(\"HINTS_erdos.csv\")"
   ]
  },
  {
   "cell_type": "code",
   "execution_count": null,
   "metadata": {
    "colab": {
     "base_uri": "https://localhost:8080/"
    },
    "id": "obz3y2QJNECN",
    "outputId": "53ceee88-cf61-4ffb-feb9-b131887e9a37"
   },
   "outputs": [],
   "source": [
    "hints.count()\n",
    "#print(hints.shape)"
   ]
  },
  {
   "cell_type": "code",
   "execution_count": null,
   "metadata": {
    "id": "GrHF_TnLQoKv"
   },
   "outputs": [],
   "source": [
    "hints =  hints.drop(['APP_REGION', 'PERSONID', 'HHID'], axis=1, inplace=False)"
   ]
  },
  {
   "cell_type": "code",
   "execution_count": null,
   "metadata": {
    "id": "Y3--z9PXNYYz"
   },
   "outputs": [],
   "source": [
    "#set all the features with numerical values to integers  and character as categorical\n",
    "\n",
    "# Convert numerical features to integers\n",
    "numerical_features = hints.select_dtypes(include=['int64', 'float64']).columns\n",
    "hints[numerical_features] = hints[numerical_features].astype('int32')\n",
    "\n",
    "# Convert character features to categorical\n",
    "character_features = hints.select_dtypes(include=['object']).columns\n",
    "hints[character_features] = hints[character_features].astype('category')"
   ]
  },
  {
   "cell_type": "code",
   "execution_count": null,
   "metadata": {
    "colab": {
     "base_uri": "https://localhost:8080/",
     "height": 253
    },
    "id": "sEfu7rTTQ0UG",
    "outputId": "90820462-4b08-431a-ac85-fc5da96374dc"
   },
   "outputs": [],
   "source": [
    "#turn all values less than 0 to NA in integer type features\n",
    "hints[numerical_features] = hints[numerical_features].applymap(lambda x: np.nan if x < 0 else x)\n",
    "hints.head()"
   ]
  },
  {
   "cell_type": "markdown",
   "metadata": {
    "id": "-I4n4SQDPXdQ"
   },
   "source": [
    "## **Data subset on \"Your Overall Health\"**\n",
    "*I'm doing on one subset of dataset. This can be done on whole dataset too.*\n"
   ]
  },
  {
   "cell_type": "code",
   "execution_count": null,
   "metadata": {
    "id": "PRwIEGQ3OP7P"
   },
   "outputs": [],
   "source": [
    "YourOverallHealth = ([\"GeneralHealth\", \"OwnAbilityTakeCareHealth\", \"MedConditions_Diabetes\", \"MedConditions_HighBP\", \"MedConditions_HeartCondition\", \"MedConditions_LungDisease\", \"MedConditions_Arthritis\", \"MedConditions_Depression\", \"SleepWorkdayHr\", \"SleepWorkdayMn\", \"SleepWeekendHr\", \"SleepWeekendMn\", \"Height_Feet\", \"Height_Inches\", \"Weight\", \"WeightIntention\", \"WeightOpinion\", \"LittleInterest\", \"Hopeless\", \"Nervous\", \"Worrying\", \"EmotionalSupport\", \"TalkHealthFriends\", \"HelpDailyChores\"])"
   ]
  },
  {
   "cell_type": "code",
   "execution_count": null,
   "metadata": {
    "id": "YewOZmOpP8oH"
   },
   "outputs": [],
   "source": [
    "hints_YOH = hints[YourOverallHealth]"
   ]
  },
  {
   "cell_type": "code",
   "execution_count": null,
   "metadata": {
    "colab": {
     "base_uri": "https://localhost:8080/"
    },
    "id": "q-VoAWKnXtVP",
    "outputId": "4a833b6c-b81e-4fb6-c409-8637b137633e"
   },
   "outputs": [],
   "source": [
    "hints_YOH['EverHadCancer'] = hints.EverHadCancer"
   ]
  },
  {
   "cell_type": "code",
   "execution_count": null,
   "metadata": {
    "colab": {
     "base_uri": "https://localhost:8080/",
     "height": 439
    },
    "id": "RhGdChu6QD5k",
    "outputId": "3033f099-90eb-4499-ab68-546f0380518c"
   },
   "outputs": [],
   "source": [
    "hints_YOH"
   ]
  },
  {
   "cell_type": "markdown",
   "metadata": {
    "id": "UZJ2afF4RqZy"
   },
   "source": [
    "### **Visualising NAs**"
   ]
  },
  {
   "cell_type": "code",
   "execution_count": null,
   "metadata": {
    "colab": {
     "base_uri": "https://localhost:8080/"
    },
    "id": "I9OIKsclSuDq",
    "outputId": "f99bc6c6-da58-45a0-d198-c4b65a992608"
   },
   "outputs": [],
   "source": [
    "print(hints_YOH.isna().sum())"
   ]
  },
  {
   "cell_type": "code",
   "execution_count": null,
   "metadata": {
    "colab": {
     "base_uri": "https://localhost:8080/",
     "height": 435
    },
    "id": "TkaNVA6-QFgO",
    "outputId": "595d77fd-0867-489f-8ef6-7ba307933f63"
   },
   "outputs": [],
   "source": [
    "plt.imshow(hints_YOH.isnull(), cmap='hot', aspect='auto')\n",
    "plt.show()"
   ]
  },
  {
   "cell_type": "code",
   "execution_count": null,
   "metadata": {
    "colab": {
     "base_uri": "https://localhost:8080/",
     "height": 638
    },
    "id": "DJgVRcJlRHid",
    "outputId": "76ea0047-1e48-485b-d9bf-20631ada6f01"
   },
   "outputs": [],
   "source": [
    "sns.heatmap(hints_YOH.isnull(), cbar=False)\n",
    "plt.show()"
   ]
  },
  {
   "cell_type": "markdown",
   "metadata": {
    "id": "Kx9aDITnR7wO"
   },
   "source": [
    "**Removing the colums with high number of missing values**"
   ]
  },
  {
   "cell_type": "code",
   "execution_count": null,
   "metadata": {
    "colab": {
     "base_uri": "https://localhost:8080/"
    },
    "id": "PGfQXM-gQNc7",
    "outputId": "49e6a441-c326-4990-8fec-d68a4ee3d133"
   },
   "outputs": [],
   "source": [
    "#hints_YOH.SleepWorkdayMn\n",
    "print(hints_YOH.SleepWeekendMn.isna().sum())\n",
    "print(hints_YOH.SleepWorkdayMn.isna().sum())\n"
   ]
  },
  {
   "cell_type": "code",
   "execution_count": null,
   "metadata": {
    "id": "TAtseAwQQSI1"
   },
   "outputs": [],
   "source": [
    "hints_YOH = hints_YOH.drop(['SleepWorkdayMn', 'SleepWeekendMn'], axis=1, inplace=False)"
   ]
  },
  {
   "cell_type": "code",
   "execution_count": null,
   "metadata": {
    "colab": {
     "base_uri": "https://localhost:8080/"
    },
    "id": "2WhhweUnS7rQ",
    "outputId": "413041e5-8a73-410f-81be-331d057f91b4"
   },
   "outputs": [],
   "source": [
    "hints_YOH.shape"
   ]
  },
  {
   "cell_type": "code",
   "execution_count": null,
   "metadata": {
    "colab": {
     "base_uri": "https://localhost:8080/",
     "height": 638
    },
    "id": "aqr1Bd77TCmP",
    "outputId": "5e171dda-9a87-439a-d0a4-678c4af58bd9"
   },
   "outputs": [],
   "source": [
    "sns.heatmap(hints_YOH.isnull(), cbar=False)\n",
    "plt.show()"
   ]
  },
  {
   "cell_type": "code",
   "execution_count": null,
   "metadata": {
    "id": "ZcW41Y_kTLKp"
   },
   "outputs": [],
   "source": [
    "hints_YOH = hints_YOH.dropna()"
   ]
  },
  {
   "cell_type": "code",
   "execution_count": null,
   "metadata": {
    "colab": {
     "base_uri": "https://localhost:8080/"
    },
    "id": "nN0XF0grTVR6",
    "outputId": "69f57a47-5326-461d-ada9-05ee2f4b55a0"
   },
   "outputs": [],
   "source": [
    "hints_YOH.shape"
   ]
  },
  {
   "cell_type": "code",
   "execution_count": null,
   "metadata": {
    "colab": {
     "base_uri": "https://localhost:8080/",
     "height": 638
    },
    "id": "JqrT6PYATfZ_",
    "outputId": "22665930-d18e-4795-fd13-9da5d5674de3"
   },
   "outputs": [],
   "source": [
    "sns.heatmap(hints_YOH.isnull(), cbar=False)\n",
    "plt.show()"
   ]
  },
  {
   "cell_type": "code",
   "execution_count": null,
   "metadata": {},
   "outputs": [],
   "source": [
    "hints_YOH.to_csv(\"YourOverallHealth.csv\")"
   ]
  },
  {
   "cell_type": "markdown",
   "metadata": {
    "id": "tvHovOs3YfIY"
   },
   "source": [
    "# **Applying data Cleaning on all the features of hints dataset**"
   ]
  },
  {
   "cell_type": "code",
   "execution_count": null,
   "metadata": {
    "colab": {
     "base_uri": "https://localhost:8080/"
    },
    "id": "VLvps0_wYlrb",
    "outputId": "8ebb0b72-8e29-4a78-b252-b556f534a0af"
   },
   "outputs": [],
   "source": [
    "print(hints.isna().sum()>500)"
   ]
  },
  {
   "cell_type": "code",
   "execution_count": null,
   "metadata": {
    "colab": {
     "base_uri": "https://localhost:8080/",
     "height": 435
    },
    "id": "2RbfmvDnYrjf",
    "outputId": "1af5663f-24b5-47ca-b7d7-d66c89f69272"
   },
   "outputs": [],
   "source": [
    "plt.imshow(hints.isnull(), cmap='hot', aspect='auto')\n",
    "plt.show()"
   ]
  },
  {
   "cell_type": "code",
   "execution_count": null,
   "metadata": {
    "colab": {
     "base_uri": "https://localhost:8080/",
     "height": 610
    },
    "id": "hWw3nq1aYv88",
    "outputId": "3c19bcbb-e006-4649-a2ae-abbf80255dae"
   },
   "outputs": [],
   "source": [
    "sns.heatmap(hints.isnull(), cbar=False)\n",
    "plt.show()"
   ]
  },
  {
   "cell_type": "code",
   "execution_count": null,
   "metadata": {
    "colab": {
     "base_uri": "https://localhost:8080/"
    },
    "id": "nTjGzuiTY0kO",
    "outputId": "8f389441-ff7d-4949-ba68-a5c668a880e6"
   },
   "outputs": [],
   "source": [
    "print((hints.isna().sum()>=0).sum())"
   ]
  },
  {
   "cell_type": "code",
   "execution_count": null,
   "metadata": {
    "colab": {
     "base_uri": "https://localhost:8080/"
    },
    "id": "MKSuMebsZYES",
    "outputId": "ba36cf40-1938-41d1-c21b-1fab205c7fb8"
   },
   "outputs": [],
   "source": [
    "#x = (0,50,100,150,200,250,300)\n",
    "x = np.arange(0,550,50)\n",
    "y=[(hints.isna().sum()<=x[0]).sum()]\n",
    "for i in np.arange(1,len(x),1):\n",
    "  print(x[i])\n",
    "  y.append((hints.isna().sum()<=x[i]).sum())"
   ]
  },
  {
   "cell_type": "code",
   "execution_count": null,
   "metadata": {
    "colab": {
     "base_uri": "https://localhost:8080/",
     "height": 430
    },
    "id": "HrhZp1nbaAdT",
    "outputId": "2494b0b8-88b6-405c-e0cb-6fd35f6acfa1"
   },
   "outputs": [],
   "source": [
    "plt.plot(x, y, linestyle=':', marker='.')\n",
    "plt.show()"
   ]
  },
  {
   "cell_type": "code",
   "execution_count": null,
   "metadata": {
    "colab": {
     "base_uri": "https://localhost:8080/"
    },
    "id": "LvoMWXj-aoxI",
    "outputId": "4ff9c0ce-8d14-4cea-fa6f-a4b12d77bb6a"
   },
   "outputs": [],
   "source": [
    "hints.shape[0]"
   ]
  },
  {
   "cell_type": "code",
   "execution_count": null,
   "metadata": {
    "colab": {
     "base_uri": "https://localhost:8080/"
    },
    "id": "VqG4VUcHg0Y7",
    "outputId": "7e008930-3a81-4407-c511-84325004d917"
   },
   "outputs": [],
   "source": [
    "print((hints.isna().sum()>=200).sum())"
   ]
  },
  {
   "cell_type": "code",
   "execution_count": null,
   "metadata": {
    "colab": {
     "base_uri": "https://localhost:8080/"
    },
    "id": "m4VbjeWQiQEC",
    "outputId": "43eaccb1-ea0b-4ef9-8f53-abcfd98cf6ba"
   },
   "outputs": [],
   "source": [
    "feature_to_keep = (hints.isna().sum()<=200)"
   ]
  },
  {
   "cell_type": "code",
   "execution_count": null,
   "metadata": {
    "id": "f7F4uveniUCC"
   },
   "outputs": [],
   "source": [
    "type(feature_to_keep)"
   ]
  },
  {
   "cell_type": "code",
   "execution_count": null,
   "metadata": {},
   "outputs": [],
   "source": [
    "feature_to_keep[feature_to_keep==True].index"
   ]
  },
  {
   "cell_type": "code",
   "execution_count": null,
   "metadata": {},
   "outputs": [],
   "source": [
    "hints_filtered = hints[feature_to_keep[feature_to_keep==True].index]"
   ]
  },
  {
   "cell_type": "code",
   "execution_count": null,
   "metadata": {},
   "outputs": [],
   "source": [
    "hints_filtered.shape"
   ]
  },
  {
   "cell_type": "code",
   "execution_count": null,
   "metadata": {},
   "outputs": [],
   "source": [
    "sns.heatmap(hints_filtered.isnull(), cbar=False)\n",
    "plt.show()"
   ]
  },
  {
   "cell_type": "code",
   "execution_count": null,
   "metadata": {},
   "outputs": [],
   "source": [
    "hints_filtered.dropna().shape"
   ]
  },
  {
   "cell_type": "code",
   "execution_count": null,
   "metadata": {},
   "outputs": [],
   "source": [
    "hints_filtered.to_csv(\"hints_filtered.csv\")"
   ]
  }
 ],
 "metadata": {
  "colab": {
   "provenance": []
  },
  "kernelspec": {
   "display_name": "Python 3 (ipykernel)",
   "language": "python",
   "name": "python3"
  },
  "language_info": {
   "codemirror_mode": {
    "name": "ipython",
    "version": 3
   },
   "file_extension": ".py",
   "mimetype": "text/x-python",
   "name": "python",
   "nbconvert_exporter": "python",
   "pygments_lexer": "ipython3",
   "version": "3.9.7"
  }
 },
 "nbformat": 4,
 "nbformat_minor": 1
}
